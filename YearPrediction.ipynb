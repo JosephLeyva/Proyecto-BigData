{
 "cells": [
  {
   "cell_type": "code",
   "execution_count": 1,
   "id": "f9e0e2da",
   "metadata": {},
   "outputs": [
    {
     "name": "stdout",
     "output_type": "stream",
     "text": [
      "Defaulting to user installation because normal site-packages is not writeable\n",
      "Requirement already satisfied: matplotlib in /LUSTRE/home/jleyva/.local/lib/python3.8/site-packages (3.5.2)\n",
      "Requirement already satisfied: pillow>=6.2.0 in /LUSTRE/home/jleyva/.local/lib/python3.8/site-packages (from matplotlib) (9.0.1)\n",
      "Requirement already satisfied: pyparsing>=2.2.1 in /storage/apps/miniconda3/lib/python3.8/site-packages (from matplotlib) (3.0.4)\n",
      "Requirement already satisfied: python-dateutil>=2.7 in /storage/apps/miniconda3/lib/python3.8/site-packages (from matplotlib) (2.8.2)\n",
      "Requirement already satisfied: numpy>=1.17 in /storage/apps/miniconda3/lib/python3.8/site-packages (from matplotlib) (1.21.4)\n",
      "Requirement already satisfied: kiwisolver>=1.0.1 in /LUSTRE/home/jleyva/.local/lib/python3.8/site-packages (from matplotlib) (1.4.2)\n",
      "Requirement already satisfied: packaging>=20.0 in /storage/apps/miniconda3/lib/python3.8/site-packages (from matplotlib) (21.0)\n",
      "Requirement already satisfied: cycler>=0.10 in /LUSTRE/home/jleyva/.local/lib/python3.8/site-packages (from matplotlib) (0.11.0)\n",
      "Requirement already satisfied: fonttools>=4.22.0 in /LUSTRE/home/jleyva/.local/lib/python3.8/site-packages (from matplotlib) (4.33.3)\n",
      "Requirement already satisfied: six>=1.5 in /storage/apps/miniconda3/lib/python3.8/site-packages (from python-dateutil>=2.7->matplotlib) (1.15.0)\n"
     ]
    }
   ],
   "source": [
    "!pip install matplotlib"
   ]
  },
  {
   "cell_type": "code",
   "execution_count": 2,
   "id": "bc991b07",
   "metadata": {},
   "outputs": [],
   "source": [
    "from pyspark.mllib.regression import LabeledPoint\n",
    "import numpy as np\n",
    "from pyspark.sql import Row\n",
    "from pyspark.sql import functions as sql_functions\n",
    "from pyspark.sql.types import *"
   ]
  },
  {
   "cell_type": "code",
   "execution_count": 3,
   "id": "80b4c604",
   "metadata": {},
   "outputs": [],
   "source": [
    "def getDF(file_name):  # File location and \n",
    "  file_location = file_name\n",
    "  file_type = \"csv\"\n",
    "\n",
    "  # CSV options\n",
    "  infer_schema = \"true\"                            #automatically takes column types as double and label as int\n",
    "  first_row_is_header = \"false\"\n",
    "  delimiter = \",\"\n",
    "\n",
    "  # The applied options are for CSV files. For other file types, these will be ignored.\n",
    "  df = spark.read.format(file_type) \\\n",
    "    .option(\"inferSchema\", infer_schema) \\\n",
    "    .option(\"header\", first_row_is_header) \\\n",
    "    .option(\"sep\", delimiter) \\\n",
    "    .load(file_location)\n",
    "  table_name = 'table'\n",
    "  df.createOrReplaceTempView(table_name)    #for permanent : -> df.write.format(parquet).saveastable.....\n",
    "  \n",
    "  df = sqlContext.sql(\"Select * from \"+table_name)   #load dataframe from table\n",
    "  return df"
   ]
  },
  {
   "cell_type": "code",
   "execution_count": 4,
   "id": "4e63c76f",
   "metadata": {},
   "outputs": [],
   "source": [
    "def parse_points(df):\n",
    "    new_df = df.rdd.map(lambda row: LabeledPoint(row[0], [x for x in row[1:]])) \\\n",
    "                   .toDF(['features', 'label'])                        #label and features are available as class variables of Labldpnt..\n",
    "    return new_df"
   ]
  },
  {
   "cell_type": "code",
   "execution_count": 5,
   "id": "5350c159",
   "metadata": {},
   "outputs": [
    {
     "name": "stderr",
     "output_type": "stream",
     "text": [
      "22/05/08 22:29:08 WARN package: Truncated the string representation of a plan since it was too large. This behavior can be adjusted by setting 'spark.sql.debug.maxToStringFields'.\n"
     ]
    }
   ],
   "source": [
    "raw_data_df = getDF('YearPredictionMSD.txt')"
   ]
  },
  {
   "cell_type": "code",
   "execution_count": 6,
   "id": "6535a251",
   "metadata": {},
   "outputs": [
    {
     "name": "stderr",
     "output_type": "stream",
     "text": [
      "                                                                                \r"
     ]
    },
    {
     "name": "stdout",
     "output_type": "stream",
     "text": [
      "+--------------------+------+\n",
      "|            features| label|\n",
      "+--------------------+------+\n",
      "|[49.94357,21.4711...|2001.0|\n",
      "|[48.73215,18.4293...|2001.0|\n",
      "+--------------------+------+\n",
      "only showing top 2 rows\n",
      "\n"
     ]
    }
   ],
   "source": [
    "parsed_points_df = parse_points(raw_data_df)\n",
    "parsed_points_df.show(2)"
   ]
  },
  {
   "cell_type": "code",
   "execution_count": 7,
   "id": "2537435e",
   "metadata": {},
   "outputs": [],
   "source": [
    "import matplotlib.pyplot as plt\n",
    "import matplotlib.cm as cm"
   ]
  },
  {
   "cell_type": "code",
   "execution_count": 8,
   "id": "077fae7c",
   "metadata": {},
   "outputs": [],
   "source": [
    "def prepare_plot(xticks, yticks, figsize=(10.5, 6), hideLabels=False, gridColor='#999999',\n",
    "                 gridWidth=1.0):\n",
    "    \"\"\"Template for generating the plot layout.\"\"\"\n",
    "    plt.close()\n",
    "    fig, ax = plt.subplots(figsize=figsize, facecolor='white', edgecolor='white')\n",
    "    ax.axes.tick_params(labelcolor='#999999', labelsize='10')\n",
    "    for axis, ticks in [(ax.get_xaxis(), xticks), (ax.get_yaxis(), yticks)]:\n",
    "        axis.set_ticks_position('none')\n",
    "        axis.set_ticks(ticks)\n",
    "        axis.label.set_color('#999999')\n",
    "        if hideLabels: axis.set_ticklabels([])\n",
    "    plt.grid(color=gridColor, linewidth=gridWidth, linestyle='-')\n",
    "    map(lambda position: ax.spines[position].set_visible(False), ['bottom', 'top', 'left', 'right'])\n",
    "    return fig, ax"
   ]
  },
  {
   "cell_type": "code",
   "execution_count": 9,
   "id": "93c518ab",
   "metadata": {},
   "outputs": [
    {
     "name": "stderr",
     "output_type": "stream",
     "text": [
      "                                                                                \r"
     ]
    },
    {
     "name": "stdout",
     "output_type": "stream",
     "text": [
      "Minimum year: 1922\n",
      "Maximum year: 2011\n"
     ]
    },
    {
     "name": "stderr",
     "output_type": "stream",
     "text": [
      "                                                                                \r"
     ]
    },
    {
     "data": {
      "image/png": "[encoded data removed]",
      "text/plain": [
       "<Figure size 756x432 with 1 Axes>"
      ]
     },
     "metadata": {},
     "output_type": "display_data"
    },
    {
     "data": {
      "image/png": "[encoded data removed]",
      "text/plain": [
       "<Figure size 756x432 with 1 Axes>"
      ]
     },
     "metadata": {},
     "output_type": "display_data"
    }
   ],
   "source": [
    "content_stats = (parsed_points_df\n",
    "                 .selectExpr(\"min(label)\", \"max(label)\").rdd.flatMap(list).collect())\n",
    "\n",
    "min_year = content_stats[0]\n",
    "max_year = content_stats[1]\n",
    "print('Minimum year: {0}'.format(int(min_year)))\n",
    "print('Maximum year: {0}'.format(int(max_year)))\n",
    "parsed_data_df = parsed_points_df.select(parsed_points_df['label']-min_year , 'features').withColumnRenamed('(label - 1922.0)','label')\n",
    "newData = (parsed_data_df\n",
    "           .rdd.map(lambda lp: (lp.label, 1))    #mapreduce\n",
    "           .reduceByKey(lambda x, y: x + y)\n",
    "           .collect())   #array\n",
    "x, y = zip(*newData)\n",
    "\n",
    "# generate layout and plot data\n",
    "fig, ax = prepare_plot(np.arange(0, 120, 20), np.arange(0, 50000, 10000))\n",
    "plt.scatter(x, y, s=14**2, c='#d6ebf2', edgecolors='#8cbfd0', alpha=0.75)\n",
    "ax.set_xlabel('Años (Desplazados)'), ax.set_ylabel('Cantida')\n",
    "display(fig)"
   ]
  },
  {
   "cell_type": "code",
   "execution_count": 10,
   "id": "484fc23f",
   "metadata": {},
   "outputs": [
    {
     "name": "stdout",
     "output_type": "stream",
     "text": [
      "+-----+--------------------+\n",
      "|label|            features|\n",
      "+-----+--------------------+\n",
      "| 79.0|[49.94357,21.4711...|\n",
      "| 79.0|[48.73215,18.4293...|\n",
      "| 79.0|[50.95714,31.8560...|\n",
      "| 79.0|[48.2475,-1.89837...|\n",
      "| 79.0|[50.9702,42.20998...|\n",
      "| 79.0|[50.54767,0.31568...|\n",
      "| 79.0|[50.57546,33.1784...|\n",
      "| 79.0|[48.26892,8.97526...|\n",
      "| 79.0|[49.75468,33.9958...|\n",
      "| 85.0|[45.17809,46.3423...|\n",
      "| 86.0|[39.13076,-23.017...|\n",
      "| 80.0|[37.66498,-34.059...|\n",
      "| 82.0|[26.51957,-148.15...|\n",
      "| 81.0|[37.68491,-26.841...|\n",
      "| 77.0|[39.11695,-8.2976...|\n",
      "+-----+--------------------+\n",
      "only showing top 15 rows\n",
      "\n"
     ]
    }
   ],
   "source": [
    "parsed_data_df.show(15)"
   ]
  },
  {
   "cell_type": "code",
   "execution_count": 11,
   "id": "e0e89028",
   "metadata": {},
   "outputs": [
    {
     "name": "stderr",
     "output_type": "stream",
     "text": [
      "                                                                                \r"
     ]
    },
    {
     "name": "stdout",
     "output_type": "stream",
     "text": [
      "Average year: 76.40243429064955\n"
     ]
    }
   ],
   "source": [
    "weights = [.8, .1, .1]\n",
    "seed = 5\n",
    "parsed_train_data_df, parsed_val_data_df, parsed_test_data_df = parsed_data_df.randomSplit(weights, seed= seed)\n",
    "parsed_train_data_df.cache()\n",
    "parsed_val_data_df.cache()\n",
    "parsed_test_data_df.cache()\n",
    "n_train = parsed_train_data_df.count()\n",
    "n_val = parsed_val_data_df.count()\n",
    "n_test = parsed_test_data_df.count()\n",
    "average_train_year = (parsed_train_data_df\n",
    "                        .selectExpr('avg(label)').first())\n",
    "print('Average year: {0}'.format(average_train_year['avg(label)']))"
   ]
  },
  {
   "cell_type": "code",
   "execution_count": 12,
   "id": "e1b57bb7",
   "metadata": {},
   "outputs": [
    {
     "name": "stdout",
     "output_type": "stream",
     "text": [
      "412194\n"
     ]
    }
   ],
   "source": [
    "print(n_train)"
   ]
  },
  {
   "cell_type": "code",
   "execution_count": 13,
   "id": "cc5c1c90",
   "metadata": {},
   "outputs": [],
   "source": [
    "from matplotlib.colors import ListedColormap, Normalize\n",
    "from matplotlib.cm import get_cmap\n",
    "cmap = get_cmap('YlOrRd')\n",
    "norm = Normalize()"
   ]
  },
  {
   "cell_type": "code",
   "execution_count": 14,
   "id": "5ff41955",
   "metadata": {},
   "outputs": [],
   "source": [
    "from pyspark.ml.evaluation import RegressionEvaluator\n",
    "\n",
    "evaluator = RegressionEvaluator(predictionCol = 'prediction')\n",
    "def calc_RMSE(dataset):\n",
    "    return evaluator.evaluate(dataset)"
   ]
  },
  {
   "cell_type": "code",
   "execution_count": 15,
   "id": "887cc642",
   "metadata": {},
   "outputs": [],
   "source": [
    "from pyspark.mllib.linalg import DenseVector\n",
    "\n",
    "def gradient_summand(weights, lp):\n",
    "    \"\"\"Calculates the gradient summand for a given weight and `LabeledPoint`.\n",
    "    \n",
    "    Args:\n",
    "        weights (DenseVector): An array of model weights (betas).\n",
    "        lp (LabeledPoint): The `LabeledPoint` for a single observation.\n",
    "\n",
    "    Returns:\n",
    "        DenseVector: An array of values the same length as `weights`.  The gradient summand.\n",
    "    \"\"\"\n",
    "    return(np.dot(np.dot(weights.T, lp.features)-lp.label, lp.features)) \n",
    "def get_labeled_prediction(weights, observation):\n",
    "    \"\"\"Calculates predictions and returns a (prediction, label) tuple.\n",
    "\n",
    "    Args:\n",
    "        weights (np.ndarray): An array with one weight for each features in `trainData`.\n",
    "        observation (LabeledPoint): A `LabeledPoint` that contain the correct label and the\n",
    "            features for the data point.\n",
    "\n",
    "    Returns:\n",
    "        tuple: A (prediction, label) tuple. Convert the return type of the label and prediction to a float.\n",
    "    \"\"\"\n",
    "    return( (float(np.dot(weights.T, observation.features)), float(observation.label)) )"
   ]
  },
  {
   "cell_type": "code",
   "execution_count": 16,
   "id": "4a750f5b",
   "metadata": {},
   "outputs": [],
   "source": [
    "def linreg_gradient_descent(train_data, num_iters):\n",
    "    \"\"\"Calculates the weights and error for a linear regression model trained with gradient descent.\n",
    "\n",
    "    Args:\n",
    "        train_data (RDD of LabeledPoint): The labeled data for use in training the model.\n",
    "        num_iters (int): The number of iterations of gradient descent to perform.\n",
    "\n",
    "    Returns:\n",
    "        (np.ndarray, np.ndarray): A tuple of (weights, training errors).  Weights will be the\n",
    "            final weights (one weight per feature) for the model, and training errors will contain\n",
    "            an error (RMSE) for each iteration of the algorithm.\n",
    "    \"\"\"\n",
    "    \n",
    "    # The length of the training data\n",
    "    n = train_data.count()\n",
    "    \n",
    "    # The number of features in the training data\n",
    "    d = len(train_data.first().features)\n",
    "    w = np.zeros(d)\n",
    "    alpha = 0.000025\n",
    "    \n",
    "    # We will compute and store the training error after each iteration\n",
    "    error_train = np.zeros(num_iters)\n",
    "    for i in range(num_iters):\n",
    "        preds_and_labels_train = train_data.rdd.map(lambda row: get_labeled_prediction(w, row))\n",
    "        preds_and_labels_train_df = sqlContext.createDataFrame(preds_and_labels_train, [\"prediction\", \"label\"])\n",
    "        error_train[i] = calc_RMSE(preds_and_labels_train_df)\n",
    "\n",
    "        gradient = train_data.rdd.map(lambda row: gradient_summand(w, row)).sum()\n",
    "\n",
    "        # Update the weights\n",
    "        \n",
    "        w -= alpha*gradient\n",
    "    preds_and_labels_train_df.show(15)\n",
    "    print(gradient,n)\n",
    "    return w, error_train"
   ]
  },
  {
   "cell_type": "code",
   "execution_count": 17,
   "id": "d1231398",
   "metadata": {},
   "outputs": [
    {
     "name": "stdout",
     "output_type": "stream",
     "text": [
      "<class 'pyspark.sql.types.Row'>\n"
     ]
    }
   ],
   "source": [
    "print(type(average_train_year))"
   ]
  },
  {
   "cell_type": "code",
   "execution_count": 18,
   "id": "7f23d36e",
   "metadata": {},
   "outputs": [
    {
     "name": "stderr",
     "output_type": "stream",
     "text": [
      "                                                                                \r"
     ]
    },
    {
     "name": "stdout",
     "output_type": "stream",
     "text": [
      "Baseline Train RMSE = 10.931\n",
      "Baseline Validation RMSE = 10.951\n",
      "Baseline Test RMSE = 10.915\n"
     ]
    }
   ],
   "source": [
    "#Baseline errors => shows almost equal distribution of classes around average\n",
    "preds_and_labels_train = parsed_train_data_df.rdd.map(lambda row: (average_train_year['avg(label)'], int(row['label'])))\n",
    "preds_and_labels_train_df = sqlContext.createDataFrame(preds_and_labels_train, [\"prediction\", \"label\"])\n",
    "rmse_train_base = calc_RMSE(preds_and_labels_train_df)\n",
    "\n",
    "preds_and_labels_val = parsed_val_data_df.rdd.map(lambda row: (average_train_year['avg(label)'], int(row['label'])))\n",
    "preds_and_labels_val_df = sqlContext.createDataFrame(preds_and_labels_val, [\"prediction\", \"label\"])\n",
    "rmse_val_base = calc_RMSE(preds_and_labels_val_df)\n",
    "\n",
    "preds_and_labels_test = parsed_test_data_df.rdd.map(lambda row: (average_train_year['avg(label)'], int(row['label'])))\n",
    "preds_and_labels_test_df = sqlContext.createDataFrame(preds_and_labels_test, [\"prediction\", \"label\"])\n",
    "rmse_test_base = calc_RMSE(preds_and_labels_test_df)\n",
    "\n",
    "print('Baseline Train RMSE = {0:.3f}'.format(rmse_train_base))\n",
    "print('Baseline Validation RMSE = {0:.3f}'.format(rmse_val_base))\n",
    "print('Baseline Test RMSE = {0:.3f}'.format(rmse_test_base))"
   ]
  },
  {
   "cell_type": "code",
   "execution_count": 19,
   "id": "42e7ec3d",
   "metadata": {},
   "outputs": [
    {
     "name": "stdout",
     "output_type": "stream",
     "text": [
      "+-----+--------------------+\n",
      "|label|            features|\n",
      "+-----+--------------------+\n",
      "|  4.0|[27.59278,-179.29...|\n",
      "|  5.0|[32.05226,-212.58...|\n",
      "|  5.0|[32.80382,-165.04...|\n",
      "|  8.0|[20.82134,-105.06...|\n",
      "|  8.0|[35.55615,-56.582...|\n",
      "|  8.0|[35.57837,-73.831...|\n",
      "| 11.0|[35.52117,-173.08...|\n",
      "| 19.0|[30.25882,-62.391...|\n",
      "| 19.0|[31.02982,-74.326...|\n",
      "| 19.0|[31.96273,-101.69...|\n",
      "| 19.0|[34.57043,-169.65...|\n",
      "| 19.0|[39.21391,-135.56...|\n",
      "| 20.0|[37.40434,-170.76...|\n",
      "| 21.0|[30.21388,-75.802...|\n",
      "| 23.0|[33.40615,-134.76...|\n",
      "+-----+--------------------+\n",
      "only showing top 15 rows\n",
      "\n"
     ]
    }
   ],
   "source": [
    "parsed_train_data_df.show(15)"
   ]
  },
  {
   "cell_type": "code",
   "execution_count": 20,
   "id": "eacf0f22",
   "metadata": {},
   "outputs": [
    {
     "name": "stderr",
     "output_type": "stream",
     "text": [
      "                                                                                \r"
     ]
    },
    {
     "name": "stdout",
     "output_type": "stream",
     "text": [
      "+--------------------+-----+\n",
      "|          prediction|label|\n",
      "+--------------------+-----+\n",
      "|-1.14500106146127...|  4.0|\n",
      "|-9.83940255986983...|  5.0|\n",
      "|-8.83462328152700...|  5.0|\n",
      "|-2.21169916686237...|  8.0|\n",
      "|-1.07349910451345...|  8.0|\n",
      "|-1.18527295506816...|  8.0|\n",
      "|-8.35090150013185...| 11.0|\n",
      "|-1.32303653604033...| 19.0|\n",
      "|-1.34826711569093...| 19.0|\n",
      "|-1.57192011453634...| 19.0|\n",
      "|-7.74247953754221...| 19.0|\n",
      "|-7.15594536224314...| 19.0|\n",
      "|-8.49283951000331...| 20.0|\n",
      "|-1.71911879554550...| 21.0|\n",
      "|-8.43966917460579...| 23.0|\n",
      "+--------------------+-----+\n",
      "only showing top 15 rows\n",
      "\n",
      "[-1.37826773e+208  1.87564200e+207 -1.00778401e+207 -1.25305834e+207\n",
      "  9.99665890e+206  2.35053836e+207  8.48457839e+206  4.66949369e+206\n",
      " -9.53590865e+206 -6.47178146e+206  1.16198899e+206 -9.24878727e+206\n",
      " -1.29349434e+208 -1.07909367e+210 -8.29861431e+209 -6.42330596e+209\n",
      " -3.53632901e+209 -3.55219642e+209 -2.34779537e+209 -2.08116907e+209\n",
      " -1.50691478e+209 -1.26707596e+209 -1.16496535e+209 -1.08890926e+209\n",
      " -1.71537851e+208 -5.21980781e+208  1.56041249e+208  1.16043661e+208\n",
      " -7.11757853e+207 -2.02928408e+208 -1.80989564e+207 -8.71250252e+207\n",
      " -1.82006986e+207 -3.37035203e+206  1.58445179e+207 -3.04977749e+208\n",
      "  3.41268276e+207 -5.40273144e+208  6.91908828e+208 -7.77988258e+207\n",
      "  1.87434977e+207 -2.84567376e+207  1.89769635e+208 -1.01843424e+207\n",
      "  3.64518288e+206 -3.76036337e+207 -2.40219110e+208 -6.21367736e+208\n",
      "  3.74399121e+208 -4.29166413e+207 -3.44630112e+207 -1.04807014e+208\n",
      " -5.59158121e+207 -4.40395054e+206  5.17343018e+207 -3.92277188e+208\n",
      " -4.47495835e+208 -7.30088562e+207 -1.64189861e+208  7.29894549e+207\n",
      " -2.83855997e+207  1.14931168e+207 -1.76034529e+207  5.49392400e+208\n",
      "  5.11085168e+207  1.65650406e+207 -1.16156853e+207 -1.24594543e+208\n",
      " -1.08014480e+208  5.26876542e+206  1.72437659e+208  2.87933012e+207\n",
      "  1.14291170e+208  2.98717783e+207  9.07191361e+207  3.06711404e+207\n",
      " -2.15790466e+207 -7.33464181e+207  4.52855562e+208 -9.07041332e+207\n",
      " -6.74433055e+207  3.33305763e+208 -1.94827784e+208 -1.39822452e+208\n",
      "  1.93997837e+206 -6.09396404e+207  1.02512704e+208 -1.90011156e+207\n",
      " -1.15399406e+208 -9.40929285e+206] 412194\n",
      "+-----+--------------------+\n",
      "|label|            features|\n",
      "+-----+--------------------+\n",
      "| 34.0|[30.30071,-109.38...|\n",
      "| 35.0|[32.71994,-48.694...|\n",
      "| 38.0|[40.18831,-35.105...|\n",
      "| 38.0|[41.73994,-15.867...|\n",
      "| 39.0|[41.78659,-67.728...|\n",
      "+-----+--------------------+\n",
      "only showing top 5 rows\n",
      "\n",
      "Validation RMSE:\n",
      "\tBaseline = 10.951\n",
      "\tLR0 = \n"
     ]
    }
   ],
   "source": [
    "num_iters = 25\n",
    "weights_LR0, error_train_LR0 = linreg_gradient_descent(parsed_train_data_df, num_iters)\n",
    "\n",
    "parsed_val_data_df.show(5)\n",
    "preds_and_labels = (parsed_val_data_df\n",
    "                      .rdd.map(lambda row: get_labeled_prediction(weights_LR0, row) ))\n",
    "\n",
    "\n",
    "print('Validation RMSE:\\n\\tBaseline = {0:.3f}\\n\\tLR0 = '.format(rmse_val_base))"
   ]
  },
  {
   "cell_type": "code",
   "execution_count": 21,
   "id": "bb7941d1",
   "metadata": {},
   "outputs": [
    {
     "name": "stdout",
     "output_type": "stream",
     "text": [
      "[(2.002846331799608e+209, 34.0), (2.190824355197353e+209, 35.0), (1.7012456948616837e+209, 38.0), (2.0317757325342087e+209, 38.0), (2.5035154045643358e+209, 39.0), (1.5896324936585929e+209, 41.0), (1.568829700189763e+209, 41.0), (1.7898805795240577e+209, 42.0), (2.3080542501268054e+209, 43.0), (1.2695307936968098e+209, 43.0), (1.558574420734812e+209, 44.0), (1.338423400168171e+209, 44.0), (1.3974693264965865e+209, 44.0), (2.3168669223298593e+209, 45.0), (1.7980781821281283e+209, 45.0)]\n"
     ]
    }
   ],
   "source": [
    "print(preds_and_labels.take(15))"
   ]
  },
  {
   "cell_type": "code",
   "execution_count": 22,
   "id": "dd386482",
   "metadata": {},
   "outputs": [
    {
     "name": "stdout",
     "output_type": "stream",
     "text": [
      "+--------------------+-----+\n",
      "|          prediction|label|\n",
      "+--------------------+-----+\n",
      "|2.002846331799608...| 34.0|\n",
      "|2.190824355197353...| 35.0|\n",
      "|1.701245694861683...| 38.0|\n",
      "|2.031775732534208...| 38.0|\n",
      "|2.503515404564335...| 39.0|\n",
      "+--------------------+-----+\n",
      "only showing top 5 rows\n",
      "\n",
      "inf\n"
     ]
    }
   ],
   "source": [
    "preds_and_labels_df = sqlContext.createDataFrame(preds_and_labels, [\"prediction\", \"label\"])\n",
    "\n",
    "preds_and_labels_df.show(5)\n",
    "rmse_val_LR0 = calc_RMSE(preds_and_labels_df)\n",
    "print(rmse_val_LR0)"
   ]
  },
  {
   "cell_type": "code",
   "execution_count": 23,
   "id": "cf6f18f3",
   "metadata": {},
   "outputs": [
    {
     "data": {
      "text/plain": [
       "float"
      ]
     },
     "execution_count": 23,
     "metadata": {},
     "output_type": "execute_result"
    }
   ],
   "source": [
    "type(rmse_val_LR0)"
   ]
  },
  {
   "cell_type": "code",
   "execution_count": 24,
   "id": "033e61dc",
   "metadata": {},
   "outputs": [
    {
     "name": "stderr",
     "output_type": "stream",
     "text": [
      "/LUSTRE/home/jleyva/.local/lib/python3.8/site-packages/matplotlib/colors.py:1254: RuntimeWarning: invalid value encountered in true_divide\n",
      "  resdat /= (vmax - vmin)\n"
     ]
    },
    {
     "data": {
      "image/png": "[encoded data removed]",
      "text/plain": [
       "<Figure size 756x432 with 1 Axes>"
      ]
     },
     "metadata": {},
     "output_type": "display_data"
    },
    {
     "data": {
      "image/png": "[encoded data removed]",
      "text/plain": [
       "<Figure size 756x432 with 1 Axes>"
      ]
     },
     "metadata": {},
     "output_type": "display_data"
    }
   ],
   "source": [
    "norm = Normalize()\n",
    "clrs = cmap(np.asarray(norm(np.log(error_train_LR0))))[:,0:3]\n",
    "\n",
    "fig, ax = prepare_plot(np.arange(0, 60, 10), np.arange(2, 6, 1))\n",
    "ax.set_ylim(2, 6)\n",
    "plt.scatter(range(0, num_iters), np.log(error_train_LR0), s=14**2, c=clrs, edgecolors='#888888', alpha=0.75)\n",
    "ax.set_xlabel('Iteración'), ax.set_ylabel(r'$\\log_e(errorTrainLR0)$')\n",
    "display(fig)"
   ]
  },
  {
   "cell_type": "code",
   "execution_count": 25,
   "id": "0729682d",
   "metadata": {},
   "outputs": [
    {
     "data": {
      "image/png": "[encoded data removed]",
      "text/plain": [
       "<Figure size 756x432 with 1 Axes>"
      ]
     },
     "metadata": {},
     "output_type": "display_data"
    },
    {
     "data": {
      "image/png": "[encoded data removed]",
      "text/plain": [
       "<Figure size 756x432 with 1 Axes>"
      ]
     },
     "metadata": {},
     "output_type": "display_data"
    }
   ],
   "source": [
    "norm = Normalize()\n",
    "clrs = cmap(np.asarray(norm(error_train_LR0[6:])))[:,0:3]\n",
    "\n",
    "fig, ax = prepare_plot(np.arange(0, 60, 10), np.arange(17, 22, 1))\n",
    "ax.set_ylim(17.8, 21.2)\n",
    "plt.scatter(range(0, num_iters-6), error_train_LR0[6:], s=14**2, c=clrs, edgecolors='#888888', alpha=0.75)\n",
    "ax.set_xticklabels(map(str, range(6, 66, 10)))\n",
    "ax.set_xlabel('Iteración'), ax.set_ylabel(r'Training Error')\n",
    "display(fig)"
   ]
  },
  {
   "cell_type": "code",
   "execution_count": 26,
   "id": "36d450d3",
   "metadata": {},
   "outputs": [
    {
     "name": "stderr",
     "output_type": "stream",
     "text": [
      "[Stage 147:=====================================================> (39 + 1) / 40]\r"
     ]
    },
    {
     "name": "stdout",
     "output_type": "stream",
     "text": [
      "[0.8352892733369766,-0.0519071382748952,-0.042108620468641965,-0.0026892687530811477,-0.010473857622112972,-0.20443175013094148,0.0,-0.08345274094559098,-0.05900737776202518,0.01699323384468839,-0.1271704227687262,-0.007423074932169715,0.042038248790405235,0.0003588738411781226,-0.0003675574035878728,0.0005521565145351686,0.00045722731370480984,0.0012016705560044705,0.0018483886831268208,0.0021047122308711316,0.0006754647865795002,0.0,0.0070018426082589895,0.002465283951551077,-0.002781316525165297,2.018531885336287e-05,0.001426519033796339,0.00036010360331140644,0.0007118617349864704,-0.00014239314840622805,-0.0012396456527578204,-0.0008494851841339401,-0.005144592229906038,0.0019448379310113655,0.00051362952327639,-0.004762472494352917,-0.00014302183863104992,0.0007317219215071123,0.0013269435551727079,-0.001573090104696363,-0.002424452169035746,-0.0006570006425264745,-0.0009689511476874545,-0.0016119140492957197,-0.002770295052569792,0.00480760954774618,0.0004328642322046271,-0.0017959509576590006,0.0,0.001671043535810119,0.0,-0.0010893065107219213,0.0012309272189114891,0.0,0.0,4.126835258342245e-05,-0.0018351005235863382,0.001769903109040501,-0.0014468590908874343,0.0,-0.0025081997069620935,-0.0017845869873299362,-0.006013847361088922,0.001036734012468421,-0.0016803819274726643,0.0005992442484742513,0.0,-0.0003792202119007342,-0.003868914884904301,-0.0033596501206268107,-0.0010400640597106117,0.00019747062238048663,0.0009513161867862599,0.00380056089171056,0.0030015989595871904,0.012004517588122212,1.6397087981134018e-05,-0.0041285584012235805,0.0,0.0,0.0,-0.00026223444259730833,0.0015162218685961656,0.0011254709235491711,0.025338481299373158,-0.0001894755287142905,0.0008751204884849284,-0.02666688808090256,-0.001146880573336483,-0.0008274395580497708] 31.34422968117529\n"
     ]
    },
    {
     "name": "stderr",
     "output_type": "stream",
     "text": [
      "\r",
      "                                                                                \r"
     ]
    }
   ],
   "source": [
    "from pyspark.ml.regression import LinearRegression\n",
    "from pyspark.ml.linalg import Vectors, VectorUDT\n",
    "# Values to use when training the linear regression model\n",
    "\n",
    "num_iters = 500  # iterations\n",
    "reg = 1e-1  # regParam\n",
    "alpha = .2  # elasticNetParam\n",
    "use_intercept = True  # intercept\n",
    "\n",
    "parsed_train_data_df = parsed_train_data_df.withColumn(\"label\", parsed_train_data_df[\"label\"].cast(DoubleType()))\n",
    "parsed_train_data_rdd = parsed_train_data_df.rdd.map(lambda row : (row.label, Vectors.dense([float(x) for x in row.features ])))\n",
    "parsed_train_data_df = sqlContext.createDataFrame(parsed_train_data_rdd, [\"label\",\"features\"])\n",
    "lin_reg = LinearRegression(maxIter = num_iters, regParam = reg, elasticNetParam = alpha, fitIntercept = use_intercept, labelCol = 'label', featuresCol = 'features')\n",
    "first_model = lin_reg.fit(parsed_train_data_df)\n",
    "\n",
    "# coeffsLR1 stores the model coefficients; interceptLR1 stores the model intercept\n",
    "coeffs_LR1 = first_model.coefficients\n",
    "intercept_LR1 = first_model.intercept\n",
    "print (coeffs_LR1, intercept_LR1)"
   ]
  },
  {
   "cell_type": "code",
   "execution_count": 27,
   "id": "ca38bb8e",
   "metadata": {},
   "outputs": [
    {
     "data": {
      "text/plain": [
       "DataFrame[label: double, features: vector, prediction: double]"
      ]
     },
     "metadata": {},
     "output_type": "display_data"
    }
   ],
   "source": [
    "sample_prediction = first_model.transform(parsed_train_data_df)\n",
    "display(sample_prediction)"
   ]
  },
  {
   "cell_type": "code",
   "execution_count": 28,
   "id": "36d0b3ab",
   "metadata": {},
   "outputs": [
    {
     "data": {
      "text/plain": [
       "[Row(label=4.0, features=DenseVector([27.5928, -179.299, -12.6056, -28.0885, -10.3794, 11.6987, 0.5783, 18.7222, -27.635, 17.0994, -13.8579, -10.4754, 16.8408, 2706.6961, 3950.7837, 1840.7693, 2073.1295, 1182.0459, 430.1077, 618.8313, 528.2529, 447.6573, 460.4904, 284.6452, -22.1422, 1829.81, 423.162, -678.9253, -311.895, 55.5352, -75.9793, 31.4177, -56.4805, -103.3851, -56.9188, 150.8384, 272.8705, -1895.8368, -212.7489, 288.2319, -192.0076, -124.4517, -57.9057, 2.0496, 23.2045, 68.1824, -1271.7197, 721.89, -436.606, 257.7871, -64.5592, 113.1978, -14.9687, -19.8262, -124.8876, 499.5827, -142.2496, 476.4827, -372.104, 376.0891, 66.3229, 25.3947, 20.8642, -84.3546, -739.4589, 259.2715, 287.5407, -271.3356, 36.0947, -27.9376, -314.4529, 234.7121, -284.3928, 12.6855, -33.7634, -18.5151, 217.2082, -324.575, -278.7042, 123.2973, 39.0197, -70.492, 149.3804, 62.7639, -21.3715, -45.1013, -235.4759, 0.0098, 22.1165, -11.9866]), prediction=74.42022447726873),\n",
       " Row(label=5.0, features=DenseVector([32.0523, -212.5805, 36.4962, -0.1782, -12.8686, 12.3876, 20.6886, 21.3138, -31.9625, 4.9966, -2.5184, -0.5838, 16.1223, 3201.092, 1946.3155, 1603.8921, 1863.8604, 1227.5822, 534.6245, 381.8365, 979.8021, 342.7358, 385.0768, 466.4907, -76.2686, 1115.0187, 75.9373, -224.2109, -97.3205, -23.0256, 1.049, -135.3699, 59.4813, -56.2788, 22.1995, 59.2976, -50.7178, -406.014, -386.7897, 299.9901, -189.4347, -213.7396, -122.9982, -86.46, -6.0762, 43.8074, -948.5676, 492.9264, -241.6562, 133.3519, 77.6061, 70.5836, 30.8255, 36.5112, -86.6495, 460.5707, 81.7429, 433.5846, -704.6081, 411.4843, 42.2437, -13.8887, 16.2721, -166.2387, -312.8235, 153.9919, 51.2951, -133.3296, -58.387, -22.8384, -291.3755, 486.2639, -277.2138, -98.2757, 102.2034, -7.4822, 858.8151, 51.2628, -101.6252, -182.7598, 45.8497, 167.2868, 54.915, 137.598, -6.0654, -148.6702, 29.3958, 10.3875, -49.4718, 29.0733]), prediction=76.58771651088709),\n",
       " Row(label=5.0, features=DenseVector([32.8038, -165.0465, 18.906, 5.4512, -50.4517, 28.524, -8.8591, 12.5403, -8.2074, 5.706, -6.8204, 5.4792, 16.3203, 2847.826, 1543.9276, 1660.7799, 1265.4346, 1309.6251, 593.1249, 419.2139, 1114.1786, 240.7352, 455.306, 443.3753, -13.468, 1273.0538, -9.3807, -148.5463, -321.9859, -73.394, 93.5162, -256.8071, 23.2726, 15.36, -50.2208, 34.1046, 335.5011, -287.4002, -154.7042, 406.7247, -190.0044, -322.819, -42.5808, -86.6131, -19.9635, 31.0834, -664.5619, 354.4042, -360.1524, 248.8692, 432.4023, 65.8379, 60.8679, 65.4948, -100.0883, 666.5908, -212.196, 102.5525, -627.4706, 136.5044, 27.3703, -41.935, 41.6962, -489.8025, -273.8296, 262.1687, 29.0851, -152.6774, 47.116, -34.9467, -395.9673, 531.6228, -84.5718, -48.455, 31.4184, -24.2187, 979.8997, 33.822, -321.5851, -124.1283, 78.4398, 21.6185, 112.1905, 67.0874, -0.8278, -94.766, -223.5263, 1.3125, -127.5082, 21.2982]), prediction=73.26496587842603),\n",
       " Row(label=8.0, features=DenseVector([20.8213, -105.0623, -43.1889, -48.9463, 9.3822, 18.5085, -47.8684, 16.3942, -40.7684, 9.3551, -7.4768, -4.1317, 49.617, 1873.766, 11894.5495, 4603.8495, 2143.794, 2369.511, 1474.2991, 674.8898, 542.9505, 423.6464, 789.6721, 628.8004, -37.0876, 527.3825, 2222.0595, -917.283, -734.9725, 613.5572, -72.8522, 94.8313, -36.4219, 6.475, -132.7301, 700.3015, -18.4424, -2639.4717, -177.0959, 324.3423, -75.5269, 128.2083, -86.8164, -79.2733, 72.7913, 228.8097, -1041.7755, 3338.4962, -322.9378, 283.645, -61.1864, 318.0296, -265.5671, 216.45, -182.9792, 105.4191, 2198.4138, 987.8182, -119.3702, 438.5672, 157.7306, 110.5569, 191.2303, -558.9016, -443.014, 689.9302, 371.9184, -289.1848, 500.3541, 113.2809, -271.3932, 897.5584, -644.8892, 123.805, 78.9125, -3.612, 43.104, 10.1196, -900.1893, 124.5181, 70.59, -199.3114, -43.844, 405.8855, -12.1968, -0.6602, 676.5988, -26.8776, -62.4756, 45.0878]), prediction=58.287282633214616),\n",
       " Row(label=8.0, features=DenseVector([35.5562, -56.582, 62.0408, -7.5386, -84.5505, 36.3581, -57.2828, -1.469, 21.0446, 11.0271, -2.2866, 20.4774, 26.6602, 1420.775, 4502.992, 2590.2084, 574.3708, 1718.2083, 731.856, 290.0741, 326.9205, 191.1618, 649.2117, 309.9565, 58.7581, 1274.694, 407.7375, 34.2332, 124.0406, 467.92, 116.9675, -42.7344, 14.953, 33.0603, -137.519, 254.7238, 383.9548, 538.5525, -303.398, 315.6193, 139.5484, -66.5698, -9.1807, 12.7566, -1.6943, 99.0806, 8.865, 1718.9911, -200.6586, 34.6676, -60.4122, 132.4346, -76.8137, 50.8911, -5.0307, 481.1368, 1150.9652, 173.9701, 35.5925, 204.6879, 20.9086, 14.3841, 106.941, 52.9401, 151.3797, 75.5576, 43.378, -332.9717, 163.6288, 44.1522, -87.0571, -95.5357, -264.6709, -46.6116, 49.4296, 4.9847, 8.5036, 135.252, -639.8837, 39.177, 24.9897, -119.4271, -184.9446, 234.7853, 7.4442, -168.6173, 244.3608, -25.5005, 81.873, 31.2615]), prediction=57.63498576065281),\n",
       " Row(label=8.0, features=DenseVector([35.5784, -73.8319, 66.8427, -1.6499, -75.3114, 28.451, -57.1516, -0.6581, 13.6672, 2.2926, 2.2158, 14.5539, 30.5678, 1984.0275, 4801.6432, 2731.3032, 666.936, 1407.0401, 743.088, 389.0721, 391.5732, 200.1348, 626.5062, 293.3051, 121.2018, 1710.2191, 182.3925, 25.2323, -85.2045, 124.9494, 176.2212, -37.9705, 13.9797, 55.8891, -84.5151, 311.2506, 616.6517, 87.5475, -233.1733, 323.653, 177.0662, 10.8225, 1.9875, -8.9039, 37.2612, 89.2623, -268.7567, 1523.6296, -326.8901, 114.1021, 57.4841, 141.1198, -38.4102, 127.4553, -19.9936, 604.3211, 760.1314, -37.2054, 140.1802, -6.3072, 78.2605, 42.5485, 116.3155, -168.4587, 273.2166, 234.0014, 106.4058, -221.4189, 193.7154, 19.2331, -151.6156, 307.0966, -250.9785, 46.2564, 55.7618, 3.4619, 242.5637, -22.7441, -727.9073, 165.4194, 47.3494, -215.2041, -100.6714, 216.9504, -8.4131, -206.2103, 312.1776, -28.1259, 87.1281, 32.2613]), prediction=59.165366851637394),\n",
       " Row(label=11.0, features=DenseVector([35.5212, -173.082, 46.4858, -5.0628, -63.8279, 24.0264, -41.0219, 4.6292, -16.1805, 2.2335, 1.6724, -4.7513, 16.9041, 1761.4705, 2802.988, 1922.8156, 660.3116, 1033.371, 483.9382, 313.9507, 522.696, 205.028, 477.523, 255.9954, 59.1263, 1386.5463, -157.146, -267.1625, -245.1682, -26.947, 3.9325, -37.1064, 30.3193, -2.3716, -37.1705, 172.2352, 400.9146, -661.4683, -383.6582, 270.7338, -130.6, -27.7491, -77.8517, -84.3157, 34.6187, 33.8609, -573.69, 834.2154, -486.2665, 91.1561, 191.0316, 135.6986, 10.9485, 65.8597, -69.6333, 506.4404, 5.3236, 272.9837, -157.8879, 148.8225, 153.681, -25.9268, 55.8032, -306.1092, -177.2571, 153.3391, 105.1206, -154.5612, 92.0226, -20.615, -56.161, 749.7708, -203.5915, 98.597, -13.7198, -17.7166, 480.9879, -5.8252, -386.0929, 123.9914, 59.136, -40.2013, -49.3946, 24.8552, -5.7143, -211.769, 29.0549, -15.6085, -53.6247, 5.1608]), prediction=69.26464795425977),\n",
       " Row(label=19.0, features=DenseVector([30.2588, -62.3916, 66.287, 11.1846, -1.4582, 43.1958, -15.2471, 6.8232, -4.6168, 14.076, -7.8855, 0.4494, 39.7849, 1928.2638, 5029.4448, 3564.7796, 883.5231, 1964.9398, 720.7793, 500.0607, 650.37, 351.9745, 776.3531, 398.9995, 49.0423, 1466.6914, -870.8452, -401.1022, 68.9796, 324.6672, 29.1133, 7.541, -53.563, 120.6235, -180.1492, 306.2764, -283.9739, -106.9672, -984.8189, 363.4542, -78.5982, -93.2981, -80.2395, -19.8271, -15.0632, 86.8432, -364.7446, 1437.3205, -594.0862, 112.6648, 223.7786, 114.442, -216.2355, 118.5987, -51.8951, 464.5021, 406.344, 345.2003, -75.2154, 275.4871, 47.0331, 79.5378, 101.0429, -139.205, -230.1769, 301.9908, 201.0181, 143.9997, 126.4306, 5.1159, -148.972, 898.664, -456.6186, -75.0324, 71.9385, -19.4101, 316.1883, -55.186, -774.0104, 83.234, 98.0923, -43.4299, 332.144, 191.8276, -22.3579, 138.1462, 257.5081, -8.5715, 7.3947, 30.6112]), prediction=56.41963770093765),\n",
       " Row(label=19.0, features=DenseVector([31.0298, -74.3264, 89.035, 8.6113, -20.1512, 41.2172, -36.5914, 13.7626, 6.8741, 20.1611, -7.9306, 4.1352, 33.8714, 2257.8149, 4748.2106, 3872.029, 768.1247, 1464.2825, 879.4545, 715.1328, 830.6289, 362.2747, 589.7652, 413.7425, 16.2089, 1730.0742, -666.7083, -326.1656, -9.6314, 332.2514, 23.1681, -50.6529, -190.0916, 94.8381, -101.7028, 268.6095, -105.7912, 323.1704, -727.8075, 295.0109, 22.9526, -0.2952, -147.7583, -50.3952, -46.1865, 103.1246, 11.8798, 1074.6792, -581.5672, -68.382, -55.4845, 129.3544, -146.4875, 222.9921, -32.2935, 308.8435, 934.8618, 723.6318, 157.4766, 199.1984, 91.6454, 28.0234, 65.7908, 70.0353, -409.1262, 467.932, 157.2915, -75.6236, 269.3262, 27.3095, -183.8122, 841.179, -660.6736, 19.2598, 47.7114, -4.1193, 316.7481, -175.9645, -732.0405, 89.7348, 93.1514, -133.366, 226.0142, 234.1071, -41.1474, -125.1962, 481.3458, -2.5867, 87.3436, 54.7111]), prediction=57.64984071834034),\n",
       " Row(label=19.0, features=DenseVector([31.9627, -101.6954, 41.9674, -4.7627, 3.5637, 36.3004, 7.7308, 17.2528, -2.4294, 10.2896, -15.4111, -6.5834, 31.8884, 2984.0067, 4128.4912, 5401.8202, 1195.3993, 2080.3883, 1207.6647, 383.1636, 566.6494, 370.3928, 934.9065, 450.5877, 143.0906, 2622.5986, -866.7183, -410.4809, 305.8049, 331.8083, 151.8067, -41.072, -20.6085, -75.6505, -227.5524, 241.1758, -121.6657, 116.0937, -1775.216, 584.9849, 94.287, -196.7948, -41.8092, 47.7248, -22.5255, 118.1193, -344.7326, 868.9443, -715.7263, 199.0205, -67.8441, 144.4939, 7.3848, 32.2014, -64.3743, 476.9602, 513.0297, 57.5709, 30.1988, 251.4588, 91.4364, 32.0978, -4.7655, -241.0536, -160.9531, 73.1272, 188.1952, 133.5983, 187.641, 2.3331, -236.1388, 297.8679, -408.7511, -140.3696, -208.4777, -17.7112, 351.7082, -343.3513, -1120.1066, 175.8362, 40.241, -247.9164, 454.8098, 611.1671, -48.773, 56.667, 150.0655, 14.1028, 81.9484, 30.902]), prediction=63.730781390767945),\n",
       " Row(label=19.0, features=DenseVector([34.5704, -169.6571, 36.6202, -0.2546, -24.9782, 11.3707, -20.5628, 8.5629, 9.2914, 15.999, -1.1691, 0.0828, 12.8895, 2126.5052, 1575.5039, 1924.7737, 1064.2995, 903.7181, 773.1309, 559.3048, 525.5291, 337.0746, 232.9622, 451.5574, 2.1271, 37.2123, 33.7232, 335.6519, -34.8043, 47.7052, 16.6633, -85.2478, -19.2939, 11.8768, 31.1388, 89.1755, -527.8223, 126.6554, -423.5719, 384.4822, -124.9773, -72.7836, -108.5237, 41.9322, -14.0735, 19.3497, -900.7594, 77.6089, -184.816, 178.6638, -74.1535, 110.2679, -41.3185, 30.5608, -42.156, 174.4282, 290.153, 334.25, -55.1126, 301.6977, 40.3742, -73.9219, 8.6636, -547.1336, -253.4948, 170.3006, 123.4797, 12.4217, 36.9615, -5.6229, -350.5411, 315.8644, -171.7421, -41.8534, 7.8997, -19.0097, 206.8048, 0.3974, -139.7166, -284.9052, 37.9876, -0.8068, 207.8461, -63.319, -4.8541, 31.3063, 107.9617, 12.7102, 390.5195, 26.4621]), prediction=71.92356096786499),\n",
       " Row(label=19.0, features=DenseVector([39.2139, -135.5675, 52.3543, 5.5179, -18.9175, 12.8858, -41.0509, -9.3672, 27.399, 6.8259, 7.1084, 10.1248, 14.2946, 2200.9146, 1463.5414, 1588.6905, 547.1144, 826.7709, 594.1864, 539.1645, 680.2512, 321.8368, 274.1381, 407.3348, 31.1872, -5.0082, -254.363, -155.5938, -12.7919, 132.3767, 47.0255, 2.1045, 40.0355, 30.5661, 25.3212, 46.5342, -238.2667, 132.5925, -392.9479, 145.7274, 12.8486, 86.1006, -33.6208, 2.5862, 52.4604, 4.0101, -206.7754, 144.0409, -105.0921, 44.6366, -22.6958, 71.4541, 33.7754, 156.3964, -18.5351, 239.3387, 322.1574, -184.0807, 170.1329, -16.2024, 37.8886, 65.6747, 11.7424, -96.3013, 272.6309, -144.8119, 130.5721, 34.222, 123.7005, 1.7777, -142.2391, 151.0738, -160.546, -21.4187, -15.382, -9.1056, 280.6805, 160.337, -122.0452, 37.9073, 50.5335, -31.2063, 119.0115, -128.811, 5.8243, -16.1313, 179.428, 9.2088, 308.7476, 24.5784]), prediction=67.59237003898889),\n",
       " Row(label=20.0, features=DenseVector([37.4043, -170.7654, 54.6552, 0.5946, -24.8726, 21.1814, -38.7134, -0.4499, 6.0904, 6.1398, 1.62, 3.0198, 18.0529, 2554.8328, 1941.7931, 1723.2768, 810.6625, 992.5835, 768.5491, 535.7817, 607.9319, 301.9698, 368.0442, 278.0259, 8.6446, 190.1553, 240.5665, -22.9617, -66.8021, 171.0324, 140.0049, -75.6192, -42.6933, -9.0707, -42.1219, 102.6895, -305.6202, 178.6626, -415.6675, 292.0134, -3.5901, -195.6669, -60.5076, 106.9396, 22.727, 33.7904, -241.4284, 206.1378, -316.4334, 144.9514, 25.5408, 151.3038, -69.9761, 159.7632, -39.0251, 231.6364, -136.5057, 207.7203, -118.1093, 181.1617, -28.4366, -45.8406, 25.5798, -331.941, -123.3771, 19.1981, 53.8869, 2.8664, -22.5744, -36.4108, -279.2138, 333.5173, -272.7474, -49.9986, 29.211, -18.9916, 440.7986, -107.2783, -211.6938, 15.6405, 58.2699, 37.751, 342.7306, 37.2603, -9.1878, 48.2949, 61.5172, 16.8405, 288.5944, 24.5709]), prediction=73.62003777342976),\n",
       " Row(label=21.0, features=DenseVector([30.2139, -75.8022, 63.5904, 2.1215, -1.143, 47.5638, -27.6732, 11.883, 18.5046, 26.9052, -14.0429, -5.799, 40.463, 2988.5971, 5589.2822, 4989.7185, 1276.2467, 2414.7355, 1029.5441, 812.7508, 1046.591, 490.281, 920.4297, 691.5095, 18.348, 1509.1399, -879.5978, -309.6365, 42.5605, 415.6266, 141.9165, -152.7719, -116.3135, 114.733, -193.4929, 333.6236, -735.3788, -82.7064, -1132.2691, 497.2904, 3.0428, -381.9859, -66.4349, -39.033, -42.1103, 125.6234, -513.4515, 1436.2995, -796.2507, 163.0801, -25.8932, 238.8245, -288.7946, 118.7347, -82.4008, 653.3845, 340.347, 781.7143, -263.0447, 413.5028, 98.4728, 145.7688, 58.4701, -479.6727, -703.3834, 404.8518, 206.0746, -165.4627, 224.4972, -19.6049, -416.4732, 720.2805, -623.2578, 54.3096, 140.3418, -36.2636, 786.8862, -288.403, -922.6102, 112.7985, 97.2774, 5.3816, 475.2505, 172.9912, -46.9484, -83.4821, 338.3878, 4.145, 143.0738, 28.7315]), prediction=62.74247650900634),\n",
       " Row(label=23.0, features=DenseVector([33.4061, -134.7669, 67.8286, -5.2724, -66.5011, -7.5003, -20.5111, 4.3206, -14.5218, -2.9547, 2.6442, -6.9359, 24.9939, 2772.3839, 2217.1836, 1249.2419, 1400.8459, 291.4734, 594.0269, 364.8836, 862.0014, 158.3039, 143.3371, 276.4562, -32.0819, 573.2233, 639.0237, -92.593, -88.3683, -126.6651, 59.7875, -61.8315, 137.0374, -3.4977, 14.2129, 174.1096, 339.5471, -111.6873, -52.0373, 216.3818, -33.7942, -217.3235, -56.9184, -15.8275, -22.9461, 68.634, -990.083, 240.6744, -306.149, 69.9008, 82.774, 51.7227, -82.6123, 83.1351, -33.7621, 45.7105, -357.7349, 238.6283, 293.5149, 72.8009, -20.8292, -47.9024, 33.0148, -202.6944, -238.7703, 367.2979, 203.7545, -25.0533, -107.2959, -61.8599, -106.5041, 770.4082, -148.4873, -52.8046, 79.2131, -20.2077, -126.1738, 70.2737, -145.5751, -146.7911, 99.0047, -115.3501, 130.101, 140.0078, 5.2857, 63.0745, 210.3873, 6.0061, 297.2933, 28.2325]), prediction=72.90270787520477),\n",
       " Row(label=23.0, features=DenseVector([34.1529, -103.048, 46.0545, -15.5864, -68.5895, -7.9934, -14.9964, 1.2614, 6.8594, 3.6827, 2.3464, 16.7215, 28.662, 3664.4812, 2415.5768, 1118.0674, 1125.3345, 275.4502, 425.6735, 296.0984, 927.931, 196.3485, 161.0763, 269.9076, 116.4738, 1687.3612, 813.3415, -100.4842, -204.9536, -52.9082, 23.5975, -115.0342, 141.6498, -11.0949, 21.8437, 199.8716, 753.0979, -416.2633, -88.4422, 98.1885, -29.1193, -199.3592, -73.2765, 13.0643, -34.0858, 85.0405, -1031.7824, 152.565, -240.9574, 41.9656, 7.2396, 26.2695, -35.599, 27.9131, -67.5379, 104.3358, -248.9651, 62.1744, -109.6165, 83.9191, -2.7561, -19.5696, 18.9953, -255.3333, -232.429, 415.3274, 1.2018, -58.8834, -41.0672, -34.1012, -265.849, 822.0692, -108.2611, -13.3854, 41.4351, -22.7853, 725.8511, 122.3876, -104.5582, -144.6035, 105.6646, 54.697, 160.2747, 176.5203, 12.7701, 98.0719, 254.6821, 8.4792, 338.0248, 30.8983]), prediction=71.43819620233192),\n",
       " Row(label=23.0, features=DenseVector([35.8064, -91.7687, 31.3001, -23.7112, -2.8632, -15.1703, -30.0653, -2.1604, 35.6968, 13.6153, 1.0109, 10.6848, 25.8206, 3459.9105, 1204.2088, 1364.6818, 746.9772, 322.1921, 474.0539, 448.3712, 716.9761, 238.2814, 139.1905, 208.2032, -103.1848, -483.1571, 193.7682, 70.7804, -42.4284, -74.7845, -127.8419, 5.3268, 108.2038, -21.5874, 12.3431, 81.6327, 179.3875, 373.6223, -157.7428, -88.3881, -28.1963, 10.6601, -124.9447, -24.516, -24.5095, 44.8754, -124.9817, 61.4118, -326.2247, -92.0525, -213.1879, 77.5775, -53.3922, -61.5344, -7.787, -306.8517, -20.6351, 384.1218, 22.004, 85.8653, 12.0242, 15.605, 13.0802, 213.9399, -220.0149, 41.3443, 57.1788, -53.1732, -93.3048, -27.5075, -4.8363, -211.1743, -288.7781, 27.3518, 29.2499, -0.0898, 820.7936, -30.1756, -185.6443, -0.5236, -2.0778, 212.0866, 50.1072, 96.7776, -11.4553, -148.1623, -9.1681, 1.0772, -90.4618, 20.0481]), prediction=74.65792941516352),\n",
       " Row(label=23.0, features=DenseVector([36.5277, -104.4482, 119.0814, 16.5714, -78.6433, -2.4018, -10.5232, 3.1507, -2.5438, 0.7734, 2.9324, -2.6907, 25.7488, 2839.5724, 2033.8073, 1047.9243, 1357.9538, 261.5764, 498.6425, 291.2479, 712.9269, 168.5768, 130.9295, 259.7758, -56.7845, 580.346, 585.3402, 16.6944, -32.697, -62.3978, 53.997, -34.5466, 127.204, -14.2427, 13.5521, 150.8519, 324.1092, 180.1664, -71.2898, 21.9148, -16.6556, -162.535, -36.7075, -17.3244, -58.5373, 59.6297, -685.32, 123.2737, -257.517, 2.2523, 21.6658, 51.2329, -64.8366, -54.3546, -25.7462, -12.1553, -263.1409, 129.3994, 466.5068, 58.972, -23.0256, -14.6108, 21.2599, -70.7125, -190.3508, 233.874, 229.7755, -29.4874, -54.7326, -52.0511, -46.6039, 522.333, -134.0882, -54.1928, 53.8226, -17.6756, -280.1364, -0.3266, -102.7588, -153.1823, 73.4872, -131.0176, 123.0884, 114.9152, -3.7512, 70.2975, 121.5678, 8.0786, 295.3618, 17.8994]), prediction=69.37299334591714),\n",
       " Row(label=23.0, features=DenseVector([37.6074, -48.6765, -4.9484, -31.0199, -29.9784, -9.3833, -16.7559, -0.7344, 0.8309, -1.9723, -0.7924, 18.9018, 53.4398, 4806.871, 3876.304, 3121.8525, 1707.2238, 570.7772, 569.1799, 520.6814, 587.8797, 410.777, 332.6486, 385.1159, 102.4387, 1286.3344, 635.6887, -320.8343, 175.2632, 64.8025, 20.6039, -4.1054, 12.2954, -17.055, -17.7322, 232.4503, 470.8588, -722.0611, -579.4837, 99.166, -40.1372, -81.6424, -95.0884, -7.7737, -7.6669, 79.6467, -345.695, -97.2262, -384.9048, 84.8002, -66.0434, 134.4275, -1.1135, -7.7904, -112.7637, 246.7449, -14.285, 93.401, 118.692, 21.5055, -39.3062, -58.6622, -20.7013, -217.5825, -51.1101, 118.5723, 135.1289, -38.4759, -48.4937, -40.6765, -198.5586, 42.7012, -371.6341, -188.3592, 142.8482, -17.216, 210.2456, 30.7335, -338.8097, -33.4319, 33.7082, -403.3126, 455.7148, -16.9538, -21.3544, 272.7815, -78.6197, 33.9426, 384.1994, 30.5213]), prediction=76.49629780872635)]"
      ]
     },
     "execution_count": 28,
     "metadata": {},
     "output_type": "execute_result"
    }
   ],
   "source": [
    "sample_prediction.take(19)"
   ]
  },
  {
   "cell_type": "code",
   "execution_count": 29,
   "id": "9c40350b",
   "metadata": {},
   "outputs": [
    {
     "name": "stderr",
     "output_type": "stream",
     "text": [
      "[Stage 151:====================================================>  (38 + 2) / 40]\r"
     ]
    },
    {
     "name": "stdout",
     "output_type": "stream",
     "text": [
      "Validation RMSE:\n",
      "\tBaseline = 10.951\n",
      "\tLR0 = inf\n",
      "\tLR1 = 9.548\n"
     ]
    },
    {
     "name": "stderr",
     "output_type": "stream",
     "text": [
      "\r",
      "                                                                                \r"
     ]
    }
   ],
   "source": [
    "parsed_val_data_df = parsed_val_data_df.withColumn(\"label\", parsed_val_data_df[\"label\"].cast(DoubleType()))\n",
    "parsed_val_data_rdd = parsed_train_data_df.rdd.map(lambda row : (row.label, Vectors.dense([float(x) for x in row.features ])))\n",
    "parsed_val_data_df = sqlContext.createDataFrame(parsed_val_data_rdd, [\"label\",\"features\"])\n",
    "val_pred_df = first_model.transform(parsed_val_data_df)\n",
    "rmse_val_LR1 = calc_RMSE(val_pred_df)\n",
    "\n",
    "print (('Validation RMSE:\\n\\tBaseline = {0:.3f}\\n\\tLR0 = {1:.3f}' +\n",
    "       '\\n\\tLR1 = {2:.3f}').format(rmse_val_base, rmse_val_LR0, rmse_val_LR1))"
   ]
  }
 ],
 "metadata": {
  "kernelspec": {
   "display_name": "PySpark",
   "language": "python",
   "name": "pyspark"
  },
  "language_info": {
   "codemirror_mode": {
    "name": "ipython",
    "version": 3
   },
   "file_extension": ".py",
   "mimetype": "text/x-python",
   "name": "python",
   "nbconvert_exporter": "python",
   "pygments_lexer": "ipython3",
   "version": "3.8.5"
  }
 },
 "nbformat": 4,
 "nbformat_minor": 5
}
